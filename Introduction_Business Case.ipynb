{
 "cells": [
  {
   "cell_type": "markdown",
   "metadata": {},
   "source": [
    "# Introduction \n",
    "### We all or our friends/family members/mates have experienced the collision involving cars or bicycle. Most of cases are ends with “happy end” with non-significant injuries like scratches or bruise. Unfortunately, there are still accidents resulting fatalities despite the state-of-art technologies that regulates lights or lights with deployed sound effect. \n",
    "### modern technology does not consider simple people’s distraction or carelessness, so additional measures should be introduced. However, we are living in the world where the resources are limited and modern machine learning alorightms could assist us to wisely use resources by indentifying crucial variables which have higher weight that resolving that issue gives more effect.\n"
   ]
  },
  {
   "cell_type": "code",
   "execution_count": null,
   "metadata": {},
   "outputs": [],
   "source": []
  }
 ],
 "metadata": {
  "kernelspec": {
   "display_name": "Python 3",
   "language": "python",
   "name": "python3"
  },
  "language_info": {
   "codemirror_mode": {
    "name": "ipython",
    "version": 3
   },
   "file_extension": ".py",
   "mimetype": "text/x-python",
   "name": "python",
   "nbconvert_exporter": "python",
   "pygments_lexer": "ipython3",
   "version": "3.6.8"
  }
 },
 "nbformat": 4,
 "nbformat_minor": 2
}
